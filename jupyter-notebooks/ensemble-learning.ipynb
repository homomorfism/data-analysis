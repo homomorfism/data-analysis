{
 "cells": [
  {
   "cell_type": "code",
   "execution_count": 45,
   "metadata": {
    "collapsed": true
   },
   "outputs": [],
   "source": [
    "import matplotlib.pyplot as plt\n",
    "import numpy as np\n",
    "import random\n",
    "import pandas as pd\n",
    "from sklearn.ensemble import RandomForestClassifier, BaggingClassifier, AdaBoostClassifier\n",
    "from sklearn.metrics import f1_score\n",
    "from sklearn.model_selection import train_test_split, GridSearchCV, cross_val_score\n",
    "from sklearn.preprocessing import LabelEncoder\n",
    "from sklearn.tree import DecisionTreeClassifier\n",
    "import seaborn as sns\n",
    "random.seed(0)\n",
    "np.random.seed(0)"
   ]
  },
  {
   "cell_type": "code",
   "execution_count": 46,
   "outputs": [
    {
     "data": {
      "text/plain": "   tcp_packets  dist_port_tcp  external_ips  vulume_bytes  udp_packets  \\\n0           36              6             3          3911            0   \n1          117              0             9         23514            0   \n2          196              0             6         24151            0   \n3            6              0             1           889            0   \n4            6              0             1           882            0   \n\n   source_app_packets  remote_app_packets  source_app_bytes  remote_app_bytes  \\\n0                  39                  33              5100              4140   \n1                 128                 107             26248             24358   \n2                 205                 214            163887             24867   \n3                   7                   6               819               975   \n4                   7                   6               819               968   \n\n   source_app_packets.1  dns_query_times    type  \n0                    39                3  benign  \n1                   128               11  benign  \n2                   205                9  benign  \n3                     7                1  benign  \n4                     7                1  benign  ",
      "text/html": "<div>\n<style scoped>\n    .dataframe tbody tr th:only-of-type {\n        vertical-align: middle;\n    }\n\n    .dataframe tbody tr th {\n        vertical-align: top;\n    }\n\n    .dataframe thead th {\n        text-align: right;\n    }\n</style>\n<table border=\"1\" class=\"dataframe\">\n  <thead>\n    <tr style=\"text-align: right;\">\n      <th></th>\n      <th>tcp_packets</th>\n      <th>dist_port_tcp</th>\n      <th>external_ips</th>\n      <th>vulume_bytes</th>\n      <th>udp_packets</th>\n      <th>source_app_packets</th>\n      <th>remote_app_packets</th>\n      <th>source_app_bytes</th>\n      <th>remote_app_bytes</th>\n      <th>source_app_packets.1</th>\n      <th>dns_query_times</th>\n      <th>type</th>\n    </tr>\n  </thead>\n  <tbody>\n    <tr>\n      <th>0</th>\n      <td>36</td>\n      <td>6</td>\n      <td>3</td>\n      <td>3911</td>\n      <td>0</td>\n      <td>39</td>\n      <td>33</td>\n      <td>5100</td>\n      <td>4140</td>\n      <td>39</td>\n      <td>3</td>\n      <td>benign</td>\n    </tr>\n    <tr>\n      <th>1</th>\n      <td>117</td>\n      <td>0</td>\n      <td>9</td>\n      <td>23514</td>\n      <td>0</td>\n      <td>128</td>\n      <td>107</td>\n      <td>26248</td>\n      <td>24358</td>\n      <td>128</td>\n      <td>11</td>\n      <td>benign</td>\n    </tr>\n    <tr>\n      <th>2</th>\n      <td>196</td>\n      <td>0</td>\n      <td>6</td>\n      <td>24151</td>\n      <td>0</td>\n      <td>205</td>\n      <td>214</td>\n      <td>163887</td>\n      <td>24867</td>\n      <td>205</td>\n      <td>9</td>\n      <td>benign</td>\n    </tr>\n    <tr>\n      <th>3</th>\n      <td>6</td>\n      <td>0</td>\n      <td>1</td>\n      <td>889</td>\n      <td>0</td>\n      <td>7</td>\n      <td>6</td>\n      <td>819</td>\n      <td>975</td>\n      <td>7</td>\n      <td>1</td>\n      <td>benign</td>\n    </tr>\n    <tr>\n      <th>4</th>\n      <td>6</td>\n      <td>0</td>\n      <td>1</td>\n      <td>882</td>\n      <td>0</td>\n      <td>7</td>\n      <td>6</td>\n      <td>819</td>\n      <td>968</td>\n      <td>7</td>\n      <td>1</td>\n      <td>benign</td>\n    </tr>\n  </tbody>\n</table>\n</div>"
     },
     "execution_count": 46,
     "metadata": {},
     "output_type": "execute_result"
    }
   ],
   "source": [
    "data_path = \"../data/raw/android_traffic.csv\"\n",
    "data = pd.read_csv(data_path)\n",
    "\n",
    "le = LabelEncoder()\n",
    "data_x, data_y = data.drop(columns=['type']).values, le.fit_transform(data['type'])\n",
    "x_train, x_test, y_train, y_test = train_test_split(data_x, data_y, test_size=0.2)\n",
    "\n",
    "data.head()\n"
   ],
   "metadata": {
    "collapsed": false,
    "pycharm": {
     "name": "#%%\n"
    }
   }
  },
  {
   "cell_type": "code",
   "execution_count": 47,
   "outputs": [
    {
     "name": "stdout",
     "output_type": "stream",
     "text": [
      "best parameters for random forest: {'max_features': 'sqrt', 'min_impurity_decrease': 1e-06, 'n_estimators': 70}\n",
      "f1 score for random forest: 0.889937106918239\n"
     ]
    }
   ],
   "source": [
    "\n",
    "param_grid_random_forest = {\n",
    "    \"n_estimators\": [30, 40, 50, 60, 70, 80],\n",
    "    \"max_features\": [\"sqrt\", \"log2\"],\n",
    "    \"min_impurity_decrease\": np.logspace(-6, -9, num=13),\n",
    "    # \"max_depth\": np.arange(1, 10),\n",
    "}\n",
    "\n",
    "random_forest_clf = GridSearchCV(estimator=RandomForestClassifier(),\n",
    "                                 param_grid=param_grid_random_forest,\n",
    "                                 scoring='f1',\n",
    "                                 n_jobs=-1)\n",
    "\n",
    "random_forest_clf.fit(x_train, y_train)\n",
    "\n",
    "print(f\"best parameters for random forest: {random_forest_clf.best_params_}\")\n",
    "f1_random_forest_clf = f1_score(y_test, random_forest_clf.predict(x_test))\n",
    "print(f\"f1 score for random forest: {f1_random_forest_clf}\")"
   ],
   "metadata": {
    "collapsed": false,
    "pycharm": {
     "name": "#%%\n"
    }
   }
  },
  {
   "cell_type": "code",
   "execution_count": 48,
   "outputs": [
    {
     "name": "stdout",
     "output_type": "stream",
     "text": [
      "best parameters for bagging: {'base_estimator__max_features': 'log2', 'base_estimator__min_impurity_decrease': 1.7782794100389228e-09, 'n_estimators': 70}\n",
      "f1 score for bagging: 0.8769106999195495\n"
     ]
    }
   ],
   "source": [
    "param_grid_bagging = {\n",
    "    \"n_estimators\": [30, 40, 50, 60, 70, 80],\n",
    "    \"base_estimator__max_features\": [\"sqrt\", \"log2\"],\n",
    "    \"base_estimator__min_impurity_decrease\": np.logspace(-6, -9, num=13),\n",
    "    # \"max_depth\": np.arange(1, 10),\n",
    "}\n",
    "\n",
    "bagging_clf = GridSearchCV(estimator=BaggingClassifier(DecisionTreeClassifier(max_depth=15)),\n",
    "                           param_grid=param_grid_bagging,\n",
    "                           scoring='f1',\n",
    "                           n_jobs=-1)\n",
    "\n",
    "bagging_clf.fit(x_train, y_train)\n",
    "\n",
    "print(f\"best parameters for bagging: {bagging_clf.best_params_}\")\n",
    "f1_bagging_clf = f1_score(y_test, bagging_clf.predict(x_test))\n",
    "print(f\"f1 score for bagging: {f1_bagging_clf}\")"
   ],
   "metadata": {
    "collapsed": false,
    "pycharm": {
     "name": "#%%\n"
    }
   }
  },
  {
   "cell_type": "code",
   "execution_count": 49,
   "outputs": [
    {
     "name": "stdout",
     "output_type": "stream",
     "text": [
      "best parameters for adaboost: {'base_estimator__max_features': 'log2', 'base_estimator__min_impurity_decrease': 5.6234132519034905e-08, 'n_estimators': 60}\n",
      "f1 score for adaboost: 0.8548770816812055\n"
     ]
    }
   ],
   "source": [
    "param_grid_adaboost = {\n",
    "    \"n_estimators\": [30, 40, 50, 60, 70, 80],\n",
    "    \"base_estimator__max_features\": [\"sqrt\", \"log2\"],\n",
    "    \"base_estimator__min_impurity_decrease\": np.logspace(-6, -9, num=13),\n",
    "    # \"max_depth\": np.arange(1, 10),\n",
    "}\n",
    "\n",
    "adaboost_clf = GridSearchCV(estimator=AdaBoostClassifier(DecisionTreeClassifier(max_depth=15)),\n",
    "                            param_grid=param_grid_adaboost,\n",
    "                            scoring='f1',\n",
    "                            n_jobs=-1)\n",
    "\n",
    "adaboost_clf.fit(x_train, y_train)\n",
    "\n",
    "print(f\"best parameters for adaboost: {adaboost_clf.best_params_}\")\n",
    "f1_adaboost_clf = f1_score(y_test, adaboost_clf.predict(x_test))\n",
    "print(f\"f1 score for adaboost: {f1_adaboost_clf}\")"
   ],
   "metadata": {
    "collapsed": false,
    "pycharm": {
     "name": "#%%\n"
    }
   }
  },
  {
   "cell_type": "markdown",
   "source": [
    "#### Adaboost is a boosting algorithm, it should consist of not deep estimator (that have low variance), and we stack them in model one by one for reducing bias of model.\n",
    "So, I expect that tuned Adaboost model will have shallow base estimator.\n",
    "\n",
    "### Bagging is a bagging algorithm, it consists of deep estimators (that have low bias), and we join them by majority voting for reducing variance.\n",
    "### Random Forest is also a bagging algorithm.\n",
    "So, I expect that tuned Random Forest and Bagging model will have deep base estimator."
   ],
   "metadata": {
    "collapsed": false,
    "pycharm": {
     "name": "#%% md\n"
    }
   }
  },
  {
   "cell_type": "code",
   "execution_count": 50,
   "outputs": [
    {
     "ename": "TypeError",
     "evalue": "plot got an unexpected keyword argument 'x'",
     "output_type": "error",
     "traceback": [
      "\u001B[0;31m---------------------------------------------------------------------------\u001B[0m",
      "\u001B[0;31mTypeError\u001B[0m                                 Traceback (most recent call last)",
      "\u001B[0;32m/tmp/ipykernel_40419/1368542993.py\u001B[0m in \u001B[0;36m<module>\u001B[0;34m\u001B[0m\n\u001B[1;32m     20\u001B[0m \u001B[0;34m\u001B[0m\u001B[0m\n\u001B[1;32m     21\u001B[0m \u001B[0;34m\u001B[0m\u001B[0m\n\u001B[0;32m---> 22\u001B[0;31m \u001B[0mplt\u001B[0m\u001B[0;34m.\u001B[0m\u001B[0mplot\u001B[0m\u001B[0;34m(\u001B[0m\u001B[0mx\u001B[0m\u001B[0;34m=\u001B[0m\u001B[0mdepth\u001B[0m\u001B[0;34m,\u001B[0m \u001B[0my\u001B[0m\u001B[0;34m=\u001B[0m\u001B[0mrandom_forest_acc\u001B[0m\u001B[0;34m,\u001B[0m \u001B[0mlegend\u001B[0m\u001B[0;34m=\u001B[0m\u001B[0;34m\"random_forest_acc\"\u001B[0m\u001B[0;34m)\u001B[0m\u001B[0;34m\u001B[0m\u001B[0;34m\u001B[0m\u001B[0m\n\u001B[0m\u001B[1;32m     23\u001B[0m \u001B[0mplt\u001B[0m\u001B[0;34m.\u001B[0m\u001B[0mplot\u001B[0m\u001B[0;34m(\u001B[0m\u001B[0mx\u001B[0m\u001B[0;34m=\u001B[0m\u001B[0mdepth\u001B[0m\u001B[0;34m,\u001B[0m \u001B[0my\u001B[0m\u001B[0;34m=\u001B[0m\u001B[0mbagging_acc\u001B[0m\u001B[0;34m,\u001B[0m \u001B[0mlegend\u001B[0m\u001B[0;34m=\u001B[0m\u001B[0;34m\"bagging_acc_acc\"\u001B[0m\u001B[0;34m)\u001B[0m\u001B[0;34m\u001B[0m\u001B[0;34m\u001B[0m\u001B[0m\n\u001B[1;32m     24\u001B[0m \u001B[0mplt\u001B[0m\u001B[0;34m.\u001B[0m\u001B[0mplot\u001B[0m\u001B[0;34m(\u001B[0m\u001B[0mx\u001B[0m\u001B[0;34m=\u001B[0m\u001B[0mdepth\u001B[0m\u001B[0;34m,\u001B[0m \u001B[0my\u001B[0m\u001B[0;34m=\u001B[0m\u001B[0madaboost_acc\u001B[0m\u001B[0;34m,\u001B[0m \u001B[0mlegend\u001B[0m\u001B[0;34m=\u001B[0m\u001B[0;34m\"adaboost_acc_acc\"\u001B[0m\u001B[0;34m)\u001B[0m\u001B[0;34m\u001B[0m\u001B[0;34m\u001B[0m\u001B[0m\n",
      "\u001B[0;32m~/PycharmProjects/data-analysis-sklearn/venv/lib/python3.9/site-packages/matplotlib/pyplot.py\u001B[0m in \u001B[0;36mplot\u001B[0;34m(scalex, scaley, data, *args, **kwargs)\u001B[0m\n\u001B[1;32m   3017\u001B[0m \u001B[0;34m@\u001B[0m\u001B[0m_copy_docstring_and_deprecators\u001B[0m\u001B[0;34m(\u001B[0m\u001B[0mAxes\u001B[0m\u001B[0;34m.\u001B[0m\u001B[0mplot\u001B[0m\u001B[0;34m)\u001B[0m\u001B[0;34m\u001B[0m\u001B[0;34m\u001B[0m\u001B[0m\n\u001B[1;32m   3018\u001B[0m \u001B[0;32mdef\u001B[0m \u001B[0mplot\u001B[0m\u001B[0;34m(\u001B[0m\u001B[0;34m*\u001B[0m\u001B[0margs\u001B[0m\u001B[0;34m,\u001B[0m \u001B[0mscalex\u001B[0m\u001B[0;34m=\u001B[0m\u001B[0;32mTrue\u001B[0m\u001B[0;34m,\u001B[0m \u001B[0mscaley\u001B[0m\u001B[0;34m=\u001B[0m\u001B[0;32mTrue\u001B[0m\u001B[0;34m,\u001B[0m \u001B[0mdata\u001B[0m\u001B[0;34m=\u001B[0m\u001B[0;32mNone\u001B[0m\u001B[0;34m,\u001B[0m \u001B[0;34m**\u001B[0m\u001B[0mkwargs\u001B[0m\u001B[0;34m)\u001B[0m\u001B[0;34m:\u001B[0m\u001B[0;34m\u001B[0m\u001B[0;34m\u001B[0m\u001B[0m\n\u001B[0;32m-> 3019\u001B[0;31m     return gca().plot(\n\u001B[0m\u001B[1;32m   3020\u001B[0m         \u001B[0;34m*\u001B[0m\u001B[0margs\u001B[0m\u001B[0;34m,\u001B[0m \u001B[0mscalex\u001B[0m\u001B[0;34m=\u001B[0m\u001B[0mscalex\u001B[0m\u001B[0;34m,\u001B[0m \u001B[0mscaley\u001B[0m\u001B[0;34m=\u001B[0m\u001B[0mscaley\u001B[0m\u001B[0;34m,\u001B[0m\u001B[0;34m\u001B[0m\u001B[0;34m\u001B[0m\u001B[0m\n\u001B[1;32m   3021\u001B[0m         **({\"data\": data} if data is not None else {}), **kwargs)\n",
      "\u001B[0;32m~/PycharmProjects/data-analysis-sklearn/venv/lib/python3.9/site-packages/matplotlib/axes/_axes.py\u001B[0m in \u001B[0;36mplot\u001B[0;34m(self, scalex, scaley, data, *args, **kwargs)\u001B[0m\n\u001B[1;32m   1603\u001B[0m         \"\"\"\n\u001B[1;32m   1604\u001B[0m         \u001B[0mkwargs\u001B[0m \u001B[0;34m=\u001B[0m \u001B[0mcbook\u001B[0m\u001B[0;34m.\u001B[0m\u001B[0mnormalize_kwargs\u001B[0m\u001B[0;34m(\u001B[0m\u001B[0mkwargs\u001B[0m\u001B[0;34m,\u001B[0m \u001B[0mmlines\u001B[0m\u001B[0;34m.\u001B[0m\u001B[0mLine2D\u001B[0m\u001B[0;34m)\u001B[0m\u001B[0;34m\u001B[0m\u001B[0;34m\u001B[0m\u001B[0m\n\u001B[0;32m-> 1605\u001B[0;31m         \u001B[0mlines\u001B[0m \u001B[0;34m=\u001B[0m \u001B[0;34m[\u001B[0m\u001B[0;34m*\u001B[0m\u001B[0mself\u001B[0m\u001B[0;34m.\u001B[0m\u001B[0m_get_lines\u001B[0m\u001B[0;34m(\u001B[0m\u001B[0;34m*\u001B[0m\u001B[0margs\u001B[0m\u001B[0;34m,\u001B[0m \u001B[0mdata\u001B[0m\u001B[0;34m=\u001B[0m\u001B[0mdata\u001B[0m\u001B[0;34m,\u001B[0m \u001B[0;34m**\u001B[0m\u001B[0mkwargs\u001B[0m\u001B[0;34m)\u001B[0m\u001B[0;34m]\u001B[0m\u001B[0;34m\u001B[0m\u001B[0;34m\u001B[0m\u001B[0m\n\u001B[0m\u001B[1;32m   1606\u001B[0m         \u001B[0;32mfor\u001B[0m \u001B[0mline\u001B[0m \u001B[0;32min\u001B[0m \u001B[0mlines\u001B[0m\u001B[0;34m:\u001B[0m\u001B[0;34m\u001B[0m\u001B[0;34m\u001B[0m\u001B[0m\n\u001B[1;32m   1607\u001B[0m             \u001B[0mself\u001B[0m\u001B[0;34m.\u001B[0m\u001B[0madd_line\u001B[0m\u001B[0;34m(\u001B[0m\u001B[0mline\u001B[0m\u001B[0;34m)\u001B[0m\u001B[0;34m\u001B[0m\u001B[0;34m\u001B[0m\u001B[0m\n",
      "\u001B[0;32m~/PycharmProjects/data-analysis-sklearn/venv/lib/python3.9/site-packages/matplotlib/axes/_base.py\u001B[0m in \u001B[0;36m__call__\u001B[0;34m(self, data, *args, **kwargs)\u001B[0m\n\u001B[1;32m    248\u001B[0m         \u001B[0;32mfor\u001B[0m \u001B[0mpos_only\u001B[0m \u001B[0;32min\u001B[0m \u001B[0;34m\"xy\"\u001B[0m\u001B[0;34m:\u001B[0m\u001B[0;34m\u001B[0m\u001B[0;34m\u001B[0m\u001B[0m\n\u001B[1;32m    249\u001B[0m             \u001B[0;32mif\u001B[0m \u001B[0mpos_only\u001B[0m \u001B[0;32min\u001B[0m \u001B[0mkwargs\u001B[0m\u001B[0;34m:\u001B[0m\u001B[0;34m\u001B[0m\u001B[0;34m\u001B[0m\u001B[0m\n\u001B[0;32m--> 250\u001B[0;31m                 raise TypeError(\"{} got an unexpected keyword argument {!r}\"\n\u001B[0m\u001B[1;32m    251\u001B[0m                                 .format(self.command, pos_only))\n\u001B[1;32m    252\u001B[0m \u001B[0;34m\u001B[0m\u001B[0m\n",
      "\u001B[0;31mTypeError\u001B[0m: plot got an unexpected keyword argument 'x'"
     ]
    },
    {
     "data": {
      "text/plain": "<Figure size 432x288 with 1 Axes>",
      "image/png": "[encoded data removed]"
     },
     "metadata": {
      "needs_background": "light"
     },
     "output_type": "display_data"
    }
   ],
   "source": [
    "best_random_forest_param = random_forest_clf.best_params_\n",
    "best_bagging_param = bagging_clf.best_params_\n",
    "best_adaboost_param = adaboost_clf.best_params_\n",
    "\n",
    "depth = np.arange(5, 25)\n",
    "random_forest_acc, bagging_acc, adaboost_acc = [], [], []\n",
    "\n",
    "for max_depth in depth:\n",
    "    random_forest = RandomForestClassifier(max_depth=max_depth).set_params(**best_random_forest_param)\n",
    "    # print(random_forest.get_params())\n",
    "    random_forest_acc.append(cross_val_score(random_forest, x_train, y_train).mean())\n",
    "\n",
    "    bagging = BaggingClassifier(base_estimator=DecisionTreeClassifier(max_depth=max_depth)).set_params(\n",
    "        **best_bagging_param)\n",
    "    bagging_acc.append(cross_val_score(bagging, x_train, y_train).mean())\n",
    "\n",
    "    adaboost = AdaBoostClassifier(base_estimator=DecisionTreeClassifier(max_depth=max_depth)).set_params(\n",
    "        **best_adaboost_param)\n",
    "    adaboost_acc.append(cross_val_score(adaboost, x_train, y_train).mean())"
   ],
   "metadata": {
    "collapsed": false,
    "pycharm": {
     "name": "#%%\n"
    }
   }
  },
  {
   "cell_type": "code",
   "execution_count": 53,
   "outputs": [
    {
     "data": {
      "text/plain": "<Figure size 432x288 with 1 Axes>",
      "image/png": "[encoded data removed]"
     },
     "metadata": {
      "needs_background": "light"
     },
     "output_type": "display_data"
    }
   ],
   "source": [
    "plt.plot(depth, random_forest_acc, label=\"random_forest_acc\")\n",
    "plt.plot(depth, bagging_acc, label=\"bagging_acc_acc\")\n",
    "plt.plot(depth, adaboost_acc, label=\"adaboost_acc_acc\")\n",
    "plt.legend()\n",
    "plt.show()"
   ],
   "metadata": {
    "collapsed": false,
    "pycharm": {
     "name": "#%%\n"
    }
   }
  }
 ],
 "metadata": {
  "kernelspec": {
   "display_name": "Python 3",
   "language": "python",
   "name": "python3"
  },
  "language_info": {
   "codemirror_mode": {
    "name": "ipython",
    "version": 2
   },
   "file_extension": ".py",
   "mimetype": "text/x-python",
   "name": "python",
   "nbconvert_exporter": "python",
   "pygments_lexer": "ipython2",
   "version": "2.7.6"
  }
 },
 "nbformat": 4,
 "nbformat_minor": 0
}